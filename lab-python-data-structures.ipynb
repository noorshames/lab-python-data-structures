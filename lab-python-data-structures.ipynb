{
 "cells": [
  {
   "cell_type": "markdown",
   "metadata": {
    "tags": []
   },
   "source": [
    "# Lab | Data Structures "
   ]
  },
  {
   "cell_type": "markdown",
   "metadata": {},
   "source": [
    "## Exercise: Managing Customer Orders\n",
    "\n",
    "As part of a business venture, you are starting an online store that sells various products. To ensure smooth operations, you need to develop a program that manages customer orders and inventory.\n",
    "\n",
    "Follow the steps below to complete the exercise:\n",
    "\n",
    "1. Define a list called `products` that contains the following items: \"t-shirt\", \"mug\", \"hat\", \"book\", \"keychain\".\n",
    "\n",
    "2. Create an empty dictionary called `inventory`.\n",
    "\n",
    "3. Ask the user to input the quantity of each product available in the inventory. Use the product names from the `products` list as keys in the `inventory` dictionary and assign the respective quantities as values.\n",
    "\n",
    "4. Create an empty set called `customer_orders`.\n",
    "\n",
    "5. Ask the user to input the name of three products that a customer wants to order (from those in the products list, meaning three products out of \"t-shirt\", \"mug\", \"hat\", \"book\" or \"keychain\". Add each product name to the `customer_orders` set.\n",
    "\n",
    "6. Print the products in the `customer_orders` set.\n",
    "\n",
    "7. Calculate the following order statistics:\n",
    "   - Total Products Ordered: The total number of products in the `customer_orders` set.\n",
    "   - Percentage of Products Ordered: The percentage of products ordered compared to the total available products.\n",
    "   \n",
    "   Store these statistics in a tuple called `order_status`.\n",
    "\n",
    "8. Print the order statistics using the following format:\n",
    "   ```\n",
    "   Order Statistics:\n",
    "   Total Products Ordered: <total_products_ordered>\n",
    "   Percentage of Products Ordered: <percentage_ordered>% \n",
    "   ```\n",
    "\n",
    "9. Update the inventory by subtracting 1 from the quantity of each product. Modify the `inventory` dictionary accordingly.\n",
    "\n",
    "10. Print the updated inventory, displaying the quantity of each product on separate lines.\n",
    "\n",
    "Solve the exercise by implementing the steps using the Python concepts of lists, dictionaries, sets, and basic input/output operations. "
   ]
  },
  {
   "cell_type": "code",
   "execution_count": 7,
   "metadata": {},
   "outputs": [
    {
     "name": "stdout",
     "output_type": "stream",
     "text": [
      "{'t-shirt': 4, 'mug': 5, 'hat': 3, 'book': 2, 'keychain': 1}\n"
     ]
    }
   ],
   "source": [
    "#1. Define a list called `products` that contains the following items: \"t-shirt\", \"mug\", \"hat\", \"book\", \"keychain\".\n",
    "products = [ \"t-shirt\", \"mug\", \"hat\", \"book\", \"keychain\"]\n",
    "\n",
    "#2. Create an empty dictionary called `inventory`.\n",
    "inventory = {}\n",
    "\n",
    "#3. Ask the user to input the quantity of each product available in the inventory. Use the product names from the `products` list as keys in the `inventory` dictionary and assign the respective quantities as values.\n",
    "for item in products: \n",
    "    quantity = int(input(f\"Enter the amount of {item}  available in the inventory: \"))\n",
    "    inventory[item] = quantity\n",
    "print(f\"{inventory}\")\n"
   ]
  },
  {
   "cell_type": "code",
   "execution_count": 16,
   "metadata": {},
   "outputs": [],
   "source": [
    "#4. Create an empty set called `customer_orders`.\n",
    "customer_orders = set()\n",
    "\n",
    "    "
   ]
  },
  {
   "cell_type": "code",
   "execution_count": 17,
   "metadata": {},
   "outputs": [
    {
     "name": "stdout",
     "output_type": "stream",
     "text": [
      "product added to the cart!\n",
      "{'mug'}\n",
      "product added to the cart!\n",
      "{'hat', 'mug'}\n",
      "product added to the cart!\n",
      "{'hat', 'mug', 'book'}\n"
     ]
    }
   ],
   "source": [
    "# 5. Ask the user to input the name of three products that a customer wants to order (from those in the products list, meaning three products out of \"t-shirt\", \"mug\", \"hat\", \"book\" or \"keychain\". Add each product name to the `customer_orders` set.\n",
    "\n",
    "while len(customer_orders) !=3:\n",
    "    customer_choice = input(f\"Please choose your product {products} t-shirt, mug, hat, book, keychain\")\n",
    "    if customer_choice not in products:\n",
    "        print(\"KeyError introduce a valid product!\")\n",
    "    else:\n",
    "        if customer_choice not in customer_orders:\n",
    "            customer_orders.add(customer_choice)\n",
    "            print(\"product added to the cart!\")\n",
    "        else: \n",
    "            print(f\"Product already ordered {customer_choice}\")\n",
    "    print(customer_orders)\n"
   ]
  },
  {
   "cell_type": "code",
   "execution_count": 18,
   "metadata": {},
   "outputs": [
    {
     "name": "stdout",
     "output_type": "stream",
     "text": [
      "{'hat', 'mug', 'book'}\n"
     ]
    }
   ],
   "source": [
    "\n",
    "#6. Print the products in the `customer_orders` set.\n",
    "print(customer_orders)"
   ]
  },
  {
   "cell_type": "code",
   "execution_count": 11,
   "metadata": {},
   "outputs": [
    {
     "data": {
      "text/plain": [
       "3"
      ]
     },
     "execution_count": 11,
     "metadata": {},
     "output_type": "execute_result"
    }
   ],
   "source": [
    "\n",
    "#7. Calculate the following order statistics:\n",
    "#Total Products Ordered: The total number of products in the `customer_orders` set.\n",
    "#Percentage of Products Ordered: The percentage of products ordered compared to the total available products.\n",
    "total_orders = len(customer_orders)\n",
    "\n",
    "\n",
    "total_orders"
   ]
  },
  {
   "cell_type": "code",
   "execution_count": 44,
   "metadata": {},
   "outputs": [
    {
     "data": {
      "text/plain": [
       "dict_values([4, 5, 3, 2, 1])"
      ]
     },
     "execution_count": 44,
     "metadata": {},
     "output_type": "execute_result"
    }
   ],
   "source": [
    "\n",
    "inventory\n"
   ]
  },
  {
   "cell_type": "code",
   "execution_count": 48,
   "metadata": {},
   "outputs": [
    {
     "name": "stdout",
     "output_type": "stream",
     "text": [
      "3\n",
      "15\n",
      "20.0\n",
      "this is the total stock: 15\n",
      "this is total number of products ordered: 3\n",
      "this is the ordered percentage: 20.00%\n"
     ]
    }
   ],
   "source": [
    "##8. Print the order statistics using the following format:\n",
    "   #Order Statistics:\n",
    "   #Total Products Ordered: <total_products_ordered>\n",
    "   #Percentage of Products Ordered: <percentage_ordered>% \n",
    "#print(f\"this is the order percentage, {order_percentage} %\" )\n",
    "#print(\"this is total number of products ordered\", total_orders)\n",
    "\n",
    "\n",
    "user_stock = len(customer_orders)\n",
    "products_stock = inventory.values()\n",
    "all_stock = sum (products_stock)\n",
    "\n",
    "\n",
    "order_percentage = (user_stock/all_stock)*100\n",
    "print(user_stock)\n",
    "print(all_stock)\n",
    "print(order_percentage)\n",
    "formatted_percentage = f\"{order_percentage:.2f}%\"\n",
    "\n",
    "print(\"this is the total stock:\", all_stock)\n",
    "print(\"this is total number of products ordered:\", user_stock)\n",
    "print(\"this is the ordered percentage:\", formatted_percentage)\n",
    "\n"
   ]
  },
  {
   "cell_type": "code",
   "execution_count": 36,
   "metadata": {},
   "outputs": [
    {
     "data": {
      "text/plain": [
       "({'book', 'hat', 'mug'}, '20.00%')"
      ]
     },
     "execution_count": 36,
     "metadata": {},
     "output_type": "execute_result"
    }
   ],
   "source": [
    "order_status = (customer_orders, formatted_percentage)\n",
    "order_status"
   ]
  },
  {
   "cell_type": "code",
   "execution_count": null,
   "metadata": {},
   "outputs": [
    {
     "name": "stdout",
     "output_type": "stream",
     "text": [
      "{'t-shirt': 2, 'mug': 2, 'hat': 2, 'book': 2, 'keychain': 2}\n"
     ]
    }
   ],
   "source": [
    "#9. Update the inventory by subtracting 1 from the quantity of each product. \n",
    "# Modify the `inventory` dictionary accordingly.\n",
    "for item in inventory:\n",
    "    inventory[item] -= 1\n",
    "print(inventory)\n",
    "\n"
   ]
  },
  {
   "cell_type": "code",
   "execution_count": null,
   "metadata": {},
   "outputs": [
    {
     "name": "stdout",
     "output_type": "stream",
     "text": [
      "you have 6 of t-shirt\n",
      "you have 8 of mug\n",
      "you have 8 of hat\n",
      "you have 8 of book\n",
      "you have 8 of keychain\n",
      "you have8 of keychain\n"
     ]
    }
   ],
   "source": [
    "#10. Print the updated inventory, displaying the quantity of each product on separate lines. \n",
    "# Solve the exercise by implementing the steps using the Python concepts of lists, dictionaries, sets, and basic input/output operations. \n",
    "\n",
    "for key, value in inventory.items():\n",
    "    print(\"you have\", value, \"of\", key)\n",
    "print(f\"you have {value} of {key}\")"
   ]
  }
 ],
 "metadata": {
  "kernelspec": {
   "display_name": "Python 3 (ipykernel)",
   "language": "python",
   "name": "python3"
  },
  "language_info": {
   "codemirror_mode": {
    "name": "ipython",
    "version": 3
   },
   "file_extension": ".py",
   "mimetype": "text/x-python",
   "name": "python",
   "nbconvert_exporter": "python",
   "pygments_lexer": "ipython3",
   "version": "3.9.12"
  }
 },
 "nbformat": 4,
 "nbformat_minor": 4
}
